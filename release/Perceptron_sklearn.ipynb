{
 "cells": [
  {
   "cell_type": "markdown",
   "metadata": {},
   "source": [
    "## Step function"
   ]
  },
  {
   "cell_type": "code",
   "execution_count": 8,
   "metadata": {},
   "outputs": [],
   "source": [
    "import matplotlib.pylab as plt\n",
    "import numpy as np"
   ]
  },
  {
   "cell_type": "code",
   "execution_count": 9,
   "metadata": {},
   "outputs": [],
   "source": [
    "def binary_step(x):\n",
    "    if x < 0:\n",
    "        return 0\n",
    "    else:\n",
    "        return 1"
   ]
  },
  {
   "cell_type": "code",
   "execution_count": 10,
   "metadata": {
    "scrolled": true
   },
   "outputs": [],
   "source": [
    "x = list(np.linspace(-5, 5, 100))\n",
    "y = list(map(lambda x: binary_step(x), x))"
   ]
  },
  {
   "cell_type": "code",
   "execution_count": 11,
   "metadata": {},
   "outputs": [
    {
     "data": {
      "image/png": "[encoded data removed]",
      "text/plain": [
       "<Figure size 432x288 with 1 Axes>"
      ]
     },
     "metadata": {
      "needs_background": "light"
     },
     "output_type": "display_data"
    }
   ],
   "source": [
    "plt.plot(x, y,'b')\n",
    "plt.xlabel('X Axis')\n",
    "plt.ylabel('Y Axis')\n",
    "plt.title('Binary step function')\n",
    "plt.grid()\n",
    "plt.show()"
   ]
  },
  {
   "cell_type": "markdown",
   "metadata": {},
   "source": [
    "## Пример sklearn"
   ]
  },
  {
   "cell_type": "code",
   "execution_count": 12,
   "metadata": {},
   "outputs": [],
   "source": [
    "from sklearn import datasets\n",
    "from sklearn.preprocessing import StandardScaler\n",
    "from sklearn.linear_model import Perceptron      #Single-layer perceptron\n",
    "from sklearn.neural_network import MLPClassifier #Multilayer perceptron \n",
    "from sklearn.model_selection import train_test_split\n",
    "from sklearn.metrics import accuracy_score"
   ]
  },
  {
   "cell_type": "code",
   "execution_count": 14,
   "metadata": {},
   "outputs": [],
   "source": [
    "# Load the mnist dataset\n",
    "mnist = datasets.load_digits()"
   ]
  },
  {
   "cell_type": "code",
   "execution_count": 15,
   "metadata": {},
   "outputs": [],
   "source": [
    "# Create our X and y data\n",
    "n_samples = len(mnist.images)\n",
    "X = mnist.images.reshape((n_samples, -1))\n",
    "y = mnist.target"
   ]
  },
  {
   "cell_type": "code",
   "execution_count": 16,
   "metadata": {},
   "outputs": [],
   "source": [
    "# Split the data into 70% training data and 30% test data\n",
    "X_train, X_test, y_train, y_test = train_test_split(X, y, test_size=0.3)"
   ]
  },
  {
   "cell_type": "code",
   "execution_count": 17,
   "metadata": {},
   "outputs": [
    {
     "data": {
      "text/plain": [
       "StandardScaler(copy=True, with_mean=True, with_std=True)"
      ]
     },
     "execution_count": 17,
     "metadata": {},
     "output_type": "execute_result"
    }
   ],
   "source": [
    "# Train the scaler, which standarizes all the features to have mean=0 and unit variance\n",
    "sc = StandardScaler()\n",
    "sc.fit(X_train)"
   ]
  },
  {
   "cell_type": "code",
   "execution_count": 18,
   "metadata": {},
   "outputs": [],
   "source": [
    "# Apply the scaler to the X training data\n",
    "X_train_std = sc.transform(X_train)"
   ]
  },
  {
   "cell_type": "code",
   "execution_count": 19,
   "metadata": {},
   "outputs": [],
   "source": [
    "# Apply the SAME scaler to the X test data\n",
    "X_test_std = sc.transform(X_test)"
   ]
  },
  {
   "cell_type": "code",
   "execution_count": 20,
   "metadata": {},
   "outputs": [],
   "source": [
    "# Create a single-layer perceptron object with the parameters: 40 iterations (epochs) over the data, and a learning rate of 0.1\n",
    "ppn = Perceptron(n_iter=40, eta0=0.1, random_state=0)\n",
    "# Create a multilayer perceptron object\n",
    "mppn = MLPClassifier(solver='lbfgs', alpha=1e-5, hidden_layer_sizes=(256, 512, 128), random_state=1)"
   ]
  },
  {
   "cell_type": "code",
   "execution_count": 23,
   "metadata": {},
   "outputs": [
    {
     "name": "stderr",
     "output_type": "stream",
     "text": [
      "/Users/romakindmitriy/anaconda3/lib/python3.7/site-packages/sklearn/linear_model/stochastic_gradient.py:152: DeprecationWarning: n_iter parameter is deprecated in 0.19 and will be removed in 0.21. Use max_iter and tol instead.\n",
      "  DeprecationWarning)\n"
     ]
    },
    {
     "data": {
      "text/plain": [
       "MLPClassifier(activation='relu', alpha=1e-05, batch_size='auto', beta_1=0.9,\n",
       "       beta_2=0.999, early_stopping=False, epsilon=1e-08,\n",
       "       hidden_layer_sizes=(256, 512, 128), learning_rate='constant',\n",
       "       learning_rate_init=0.001, max_iter=200, momentum=0.9,\n",
       "       n_iter_no_change=10, nesterovs_momentum=True, power_t=0.5,\n",
       "       random_state=1, shuffle=True, solver='lbfgs', tol=0.0001,\n",
       "       validation_fraction=0.1, verbose=False, warm_start=False)"
      ]
     },
     "execution_count": 23,
     "metadata": {},
     "output_type": "execute_result"
    }
   ],
   "source": [
    "# Train the perceptrons\n",
    "ppn.fit(X_train_std, y_train)\n",
    "mppn.fit(X_train_std, y_train)"
   ]
  },
  {
   "cell_type": "code",
   "execution_count": 24,
   "metadata": {},
   "outputs": [],
   "source": [
    "# Apply the trained perceptrons on the X data to make predicts for the y test data\n",
    "y_pred = ppn.predict(X_test_std)\n",
    "multi_y_pred = mppn.predict(X_test_std)"
   ]
  },
  {
   "cell_type": "code",
   "execution_count": 25,
   "metadata": {},
   "outputs": [
    {
     "name": "stdout",
     "output_type": "stream",
     "text": [
      "Single-layer perceptron accuracy: 0.9444\n",
      "Multilayer perceptron accuracy: 0.9537\n"
     ]
    }
   ],
   "source": [
    "# View the accuracies of the model, which is: 1 - (observations predicted wrong / total observations)\n",
    "print('Single-layer perceptron accuracy: %.4f' % accuracy_score(y_test, y_pred))\n",
    "print('Multilayer perceptron accuracy: %.4f' % accuracy_score(y_test, multi_y_pred))"
   ]
  },
  {
   "cell_type": "markdown",
   "metadata": {},
   "source": [
    "## Анализ полученных данных"
   ]
  },
  {
   "cell_type": "code",
   "execution_count": 8,
   "metadata": {
    "pycharm": {
     "is_executing": false
    }
   },
   "outputs": [],
   "source": [
    "import pandas as pd\n",
    "import csv\n",
    "import matplotlib.pyplot as plt\n",
    "pd.set_option('max_colwidth', 500)"
   ]
  },
  {
   "cell_type": "code",
   "execution_count": 9,
   "metadata": {
    "pycharm": {
     "is_executing": false
    }
   },
   "outputs": [],
   "source": [
    "data = pd.read_csv(\"./analyse_step/step.csv\")"
   ]
  },
  {
   "cell_type": "code",
   "execution_count": 10,
   "metadata": {
    "pycharm": {
     "is_executing": false,
     "name": "#%%\n"
    }
   },
   "outputs": [
    {
     "data": {
      "text/html": [
       "<div>\n",
       "<style scoped>\n",
       "    .dataframe tbody tr th:only-of-type {\n",
       "        vertical-align: middle;\n",
       "    }\n",
       "\n",
       "    .dataframe tbody tr th {\n",
       "        vertical-align: top;\n",
       "    }\n",
       "\n",
       "    .dataframe thead th {\n",
       "        text-align: right;\n",
       "    }\n",
       "</style>\n",
       "<table border=\"1\" class=\"dataframe\">\n",
       "  <thead>\n",
       "    <tr style=\"text-align: right;\">\n",
       "      <th></th>\n",
       "      <th>k</th>\n",
       "      <th>w</th>\n",
       "      <th>y</th>\n",
       "      <th>E</th>\n",
       "    </tr>\n",
       "  </thead>\n",
       "  <tbody>\n",
       "    <tr>\n",
       "      <th>0</th>\n",
       "      <td>0</td>\n",
       "      <td>[0.3, 0.3, 0.3, 0.0, 0.0]</td>\n",
       "      <td>[1, 0, 0, 1, 0]</td>\n",
       "      <td>3</td>\n",
       "    </tr>\n",
       "    <tr>\n",
       "      <th>1</th>\n",
       "      <td>1</td>\n",
       "      <td>[0.0, 0.6, 0.3, -0.3, 0.0]</td>\n",
       "      <td>[1, 1, 1, 1, 0]</td>\n",
       "      <td>3</td>\n",
       "    </tr>\n",
       "    <tr>\n",
       "      <th>2</th>\n",
       "      <td>2</td>\n",
       "      <td>[-0.3, 0.6, 0.3, -0.3, -0.3]</td>\n",
       "      <td>[1, 0, 1, 1, 1]</td>\n",
       "      <td>1</td>\n",
       "    </tr>\n",
       "    <tr>\n",
       "      <th>3</th>\n",
       "      <td>3</td>\n",
       "      <td>[-0.3, 0.6, 0.3, -0.3, -0.3]</td>\n",
       "      <td>[0, 0, 1, 1, 1]</td>\n",
       "      <td>0</td>\n",
       "    </tr>\n",
       "  </tbody>\n",
       "</table>\n",
       "</div>"
      ],
      "text/plain": [
       "   k                             w                y  E\n",
       "0  0     [0.3, 0.3, 0.3, 0.0, 0.0]  [1, 0, 0, 1, 0]  3\n",
       "1  1    [0.0, 0.6, 0.3, -0.3, 0.0]  [1, 1, 1, 1, 0]  3\n",
       "2  2  [-0.3, 0.6, 0.3, -0.3, -0.3]  [1, 0, 1, 1, 1]  1\n",
       "3  3  [-0.3, 0.6, 0.3, -0.3, -0.3]  [0, 0, 1, 1, 1]  0"
      ]
     },
     "execution_count": 10,
     "metadata": {},
     "output_type": "execute_result"
    }
   ],
   "source": [
    "data.head(10)"
   ]
  },
  {
   "cell_type": "code",
   "execution_count": 11,
   "metadata": {
    "pycharm": {
     "is_executing": false,
     "name": "#%%\n"
    }
   },
   "outputs": [
    {
     "data": {
      "image/png": "[encoded data removed]",
      "text/plain": [
       "<Figure size 432x288 with 1 Axes>"
      ]
     },
     "metadata": {
      "needs_background": "light"
     },
     "output_type": "display_data"
    }
   ],
   "source": [
    "plt.plot(data['k'], data['E'],'b')\n",
    "plt.xlabel('E')\n",
    "plt.ylabel('k')\n",
    "plt.title('E(k)')\n",
    "plt.grid()\n",
    "plt.show()"
   ]
  },
  {
   "cell_type": "code",
   "execution_count": 5,
   "metadata": {
    "pycharm": {
     "is_executing": false
    }
   },
   "outputs": [],
   "source": [
    "d = pd.read_csv(\"./find_min_vector_step/step.csv\")"
   ]
  },
  {
   "cell_type": "code",
   "execution_count": 6,
   "metadata": {
    "pycharm": {
     "is_executing": false,
     "name": "#%%\n"
    }
   },
   "outputs": [
    {
     "data": {
      "text/html": [
       "<div>\n",
       "<style scoped>\n",
       "    .dataframe tbody tr th:only-of-type {\n",
       "        vertical-align: middle;\n",
       "    }\n",
       "\n",
       "    .dataframe tbody tr th {\n",
       "        vertical-align: top;\n",
       "    }\n",
       "\n",
       "    .dataframe thead th {\n",
       "        text-align: right;\n",
       "    }\n",
       "</style>\n",
       "<table border=\"1\" class=\"dataframe\">\n",
       "  <thead>\n",
       "    <tr style=\"text-align: right;\">\n",
       "      <th></th>\n",
       "      <th>k</th>\n",
       "      <th>w</th>\n",
       "      <th>y</th>\n",
       "      <th>E</th>\n",
       "    </tr>\n",
       "  </thead>\n",
       "  <tbody>\n",
       "    <tr>\n",
       "      <th>0</th>\n",
       "      <td>0</td>\n",
       "      <td>[-0.3, -0.3, 0.3, 0.3, 0.0]</td>\n",
       "      <td>[1, 1, 1, 0, 0, 1, 1, 1, 1, 1]</td>\n",
       "      <td>5</td>\n",
       "    </tr>\n",
       "    <tr>\n",
       "      <th>1</th>\n",
       "      <td>1</td>\n",
       "      <td>[-0.3, -0.3, 0.3, 0.3, 0.3]</td>\n",
       "      <td>[1, 1, 0, 1, 1, 0, 1, 1, 0, 1]</td>\n",
       "      <td>2</td>\n",
       "    </tr>\n",
       "    <tr>\n",
       "      <th>2</th>\n",
       "      <td>2</td>\n",
       "      <td>[-0.3, -0.3, 0.3, 0.6, 0.3]</td>\n",
       "      <td>[1, 1, 1, 0, 1, 0, 1, 1, 0, 1]</td>\n",
       "      <td>4</td>\n",
       "    </tr>\n",
       "    <tr>\n",
       "      <th>3</th>\n",
       "      <td>3</td>\n",
       "      <td>[-0.3, -0.3, 0.6, 0.6, 0.6]</td>\n",
       "      <td>[1, 1, 1, 1, 0, 0, 1, 1, 0, 1]</td>\n",
       "      <td>4</td>\n",
       "    </tr>\n",
       "    <tr>\n",
       "      <th>4</th>\n",
       "      <td>4</td>\n",
       "      <td>[-0.3, 0.0, 0.6, 0.6, 0.6]</td>\n",
       "      <td>[1, 1, 1, 1, 1, 0, 0, 1, 0, 1]</td>\n",
       "      <td>2</td>\n",
       "    </tr>\n",
       "    <tr>\n",
       "      <th>5</th>\n",
       "      <td>5</td>\n",
       "      <td>[-0.6, 0.0, 0.6, 0.6, 0.6]</td>\n",
       "      <td>[1, 1, 1, 1, 1, 0, 1, 1, 0, 1]</td>\n",
       "      <td>3</td>\n",
       "    </tr>\n",
       "    <tr>\n",
       "      <th>6</th>\n",
       "      <td>6</td>\n",
       "      <td>[-0.5999999999999999, 0.0, 0.6, 0.8999999999999999, 0.6]</td>\n",
       "      <td>[1, 1, 1, 0, 1, 0, 1, 1, 0, 1]</td>\n",
       "      <td>4</td>\n",
       "    </tr>\n",
       "    <tr>\n",
       "      <th>7</th>\n",
       "      <td>7</td>\n",
       "      <td>[-0.5999999999999999, 0.3, 0.6, 0.8999999999999999, 0.6]</td>\n",
       "      <td>[1, 1, 1, 1, 1, 0, 0, 1, 0, 1]</td>\n",
       "      <td>2</td>\n",
       "    </tr>\n",
       "    <tr>\n",
       "      <th>8</th>\n",
       "      <td>8</td>\n",
       "      <td>[-0.5999999999999999, 0.3, 0.8999999999999999, 0.8999999999999999, 0.6]</td>\n",
       "      <td>[1, 1, 1, 1, 1, 0, 1, 0, 0, 1]</td>\n",
       "      <td>4</td>\n",
       "    </tr>\n",
       "    <tr>\n",
       "      <th>9</th>\n",
       "      <td>9</td>\n",
       "      <td>[-0.8999999999999999, 0.3, 0.8999999999999999, 0.8999999999999999, 0.6]</td>\n",
       "      <td>[1, 1, 1, 1, 1, 0, 1, 1, 0, 1]</td>\n",
       "      <td>3</td>\n",
       "    </tr>\n",
       "    <tr>\n",
       "      <th>10</th>\n",
       "      <td>10</td>\n",
       "      <td>[-0.8999999999999999, 0.3, 0.8999999999999999, 0.8999999999999999, 0.6]</td>\n",
       "      <td>[1, 1, 0, 1, 1, 1, 0, 1, 0, 1]</td>\n",
       "      <td>0</td>\n",
       "    </tr>\n",
       "  </tbody>\n",
       "</table>\n",
       "</div>"
      ],
      "text/plain": [
       "     k  \\\n",
       "0    0   \n",
       "1    1   \n",
       "2    2   \n",
       "3    3   \n",
       "4    4   \n",
       "5    5   \n",
       "6    6   \n",
       "7    7   \n",
       "8    8   \n",
       "9    9   \n",
       "10  10   \n",
       "\n",
       "                                                                          w  \\\n",
       "0                                               [-0.3, -0.3, 0.3, 0.3, 0.0]   \n",
       "1                                               [-0.3, -0.3, 0.3, 0.3, 0.3]   \n",
       "2                                               [-0.3, -0.3, 0.3, 0.6, 0.3]   \n",
       "3                                               [-0.3, -0.3, 0.6, 0.6, 0.6]   \n",
       "4                                                [-0.3, 0.0, 0.6, 0.6, 0.6]   \n",
       "5                                                [-0.6, 0.0, 0.6, 0.6, 0.6]   \n",
       "6                  [-0.5999999999999999, 0.0, 0.6, 0.8999999999999999, 0.6]   \n",
       "7                  [-0.5999999999999999, 0.3, 0.6, 0.8999999999999999, 0.6]   \n",
       "8   [-0.5999999999999999, 0.3, 0.8999999999999999, 0.8999999999999999, 0.6]   \n",
       "9   [-0.8999999999999999, 0.3, 0.8999999999999999, 0.8999999999999999, 0.6]   \n",
       "10  [-0.8999999999999999, 0.3, 0.8999999999999999, 0.8999999999999999, 0.6]   \n",
       "\n",
       "                                 y  E  \n",
       "0   [1, 1, 1, 0, 0, 1, 1, 1, 1, 1]  5  \n",
       "1   [1, 1, 0, 1, 1, 0, 1, 1, 0, 1]  2  \n",
       "2   [1, 1, 1, 0, 1, 0, 1, 1, 0, 1]  4  \n",
       "3   [1, 1, 1, 1, 0, 0, 1, 1, 0, 1]  4  \n",
       "4   [1, 1, 1, 1, 1, 0, 0, 1, 0, 1]  2  \n",
       "5   [1, 1, 1, 1, 1, 0, 1, 1, 0, 1]  3  \n",
       "6   [1, 1, 1, 0, 1, 0, 1, 1, 0, 1]  4  \n",
       "7   [1, 1, 1, 1, 1, 0, 0, 1, 0, 1]  2  \n",
       "8   [1, 1, 1, 1, 1, 0, 1, 0, 0, 1]  4  \n",
       "9   [1, 1, 1, 1, 1, 0, 1, 1, 0, 1]  3  \n",
       "10  [1, 1, 0, 1, 1, 1, 0, 1, 0, 1]  0  "
      ]
     },
     "execution_count": 6,
     "metadata": {},
     "output_type": "execute_result"
    }
   ],
   "source": [
    "d.head(20)"
   ]
  },
  {
   "cell_type": "code",
   "execution_count": 7,
   "metadata": {
    "pycharm": {
     "is_executing": false,
     "name": "#%%\n"
    }
   },
   "outputs": [
    {
     "data": {
      "image/png": "[encoded data removed]",
      "text/plain": [
       "<Figure size 432x288 with 1 Axes>"
      ]
     },
     "metadata": {
      "needs_background": "light"
     },
     "output_type": "display_data"
    }
   ],
   "source": [
    "plt.plot(d['k'], d['E'],'b')\n",
    "plt.xlabel('E')\n",
    "plt.ylabel('k')\n",
    "plt.title('E(k)')\n",
    "plt.grid()\n",
    "plt.show()"
   ]
  },
  {
   "cell_type": "code",
   "execution_count": null,
   "metadata": {
    "pycharm": {
     "name": "#%%\n"
    }
   },
   "outputs": [],
   "source": []
  }
 ],
 "metadata": {
  "kernelspec": {
   "display_name": "Python 3",
   "language": "python",
   "name": "python3"
  },
  "language_info": {
   "codemirror_mode": {
    "name": "ipython",
    "version": 3
   },
   "file_extension": ".py",
   "mimetype": "text/x-python",
   "name": "python",
   "nbconvert_exporter": "python",
   "pygments_lexer": "ipython3",
   "version": "3.7.3"
  },
  "pycharm": {
   "stem_cell": {
    "cell_type": "raw",
    "metadata": {
     "collapsed": false
    },
    "source": []
   }
  }
 },
 "nbformat": 4,
 "nbformat_minor": 2
}
