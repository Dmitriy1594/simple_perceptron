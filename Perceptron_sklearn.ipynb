{
 "cells": [
  {
   "cell_type": "code",
   "execution_count": 8,
   "metadata": {},
   "outputs": [],
   "source": [
    "import matplotlib.pylab as plt\n",
    "import numpy as np"
   ]
  },
  {
   "cell_type": "code",
   "execution_count": 9,
   "metadata": {},
   "outputs": [],
   "source": [
    "def binary_step(x):\n",
    "    if x < 0:\n",
    "        return 0\n",
    "    else:\n",
    "        return 1"
   ]
  },
  {
   "cell_type": "code",
   "execution_count": 10,
   "metadata": {
    "scrolled": true
   },
   "outputs": [],
   "source": [
    "x = list(np.linspace(-5, 5, 100))\n",
    "y = list(map(lambda x: binary_step(x), x))"
   ]
  },
  {
   "cell_type": "code",
   "execution_count": 11,
   "metadata": {},
   "outputs": [
    {
     "data": {
      "image/png": "[encoded data removed]",
      "text/plain": [
       "<Figure size 432x288 with 1 Axes>"
      ]
     },
     "metadata": {
      "needs_background": "light"
     },
     "output_type": "display_data"
    }
   ],
   "source": [
    "plt.plot(x, y,'b')\n",
    "plt.xlabel('X Axis')\n",
    "plt.ylabel('Y Axis')\n",
    "plt.title('Binary step function')\n",
    "plt.grid()\n",
    "plt.show()"
   ]
  },
  {
   "cell_type": "code",
   "execution_count": 12,
   "metadata": {},
   "outputs": [],
   "source": [
    "from sklearn import datasets\n",
    "from sklearn.preprocessing import StandardScaler\n",
    "from sklearn.linear_model import Perceptron      #Single-layer perceptron\n",
    "from sklearn.neural_network import MLPClassifier #Multilayer perceptron \n",
    "from sklearn.model_selection import train_test_split\n",
    "from sklearn.metrics import accuracy_score"
   ]
  },
  {
   "cell_type": "code",
   "execution_count": 14,
   "metadata": {},
   "outputs": [],
   "source": [
    "# Load the mnist dataset\n",
    "mnist = datasets.load_digits()"
   ]
  },
  {
   "cell_type": "code",
   "execution_count": 15,
   "metadata": {},
   "outputs": [],
   "source": [
    "# Create our X and y data\n",
    "n_samples = len(mnist.images)\n",
    "X = mnist.images.reshape((n_samples, -1))\n",
    "y = mnist.target"
   ]
  },
  {
   "cell_type": "code",
   "execution_count": 16,
   "metadata": {},
   "outputs": [],
   "source": [
    "# Split the data into 70% training data and 30% test data\n",
    "X_train, X_test, y_train, y_test = train_test_split(X, y, test_size=0.3)"
   ]
  },
  {
   "cell_type": "code",
   "execution_count": 17,
   "metadata": {},
   "outputs": [
    {
     "data": {
      "text/plain": [
       "StandardScaler(copy=True, with_mean=True, with_std=True)"
      ]
     },
     "execution_count": 17,
     "metadata": {},
     "output_type": "execute_result"
    }
   ],
   "source": [
    "# Train the scaler, which standarizes all the features to have mean=0 and unit variance\n",
    "sc = StandardScaler()\n",
    "sc.fit(X_train)"
   ]
  },
  {
   "cell_type": "code",
   "execution_count": 18,
   "metadata": {},
   "outputs": [],
   "source": [
    "# Apply the scaler to the X training data\n",
    "X_train_std = sc.transform(X_train)"
   ]
  },
  {
   "cell_type": "code",
   "execution_count": 19,
   "metadata": {},
   "outputs": [],
   "source": [
    "# Apply the SAME scaler to the X test data\n",
    "X_test_std = sc.transform(X_test)"
   ]
  },
  {
   "cell_type": "code",
   "execution_count": 20,
   "metadata": {},
   "outputs": [],
   "source": [
    "# Create a single-layer perceptron object with the parameters: 40 iterations (epochs) over the data, and a learning rate of 0.1\n",
    "ppn = Perceptron(n_iter=40, eta0=0.1, random_state=0)\n",
    "# Create a multilayer perceptron object\n",
    "mppn = MLPClassifier(solver='lbfgs', alpha=1e-5, hidden_layer_sizes=(256, 512, 128), random_state=1)"
   ]
  },
  {
   "cell_type": "code",
   "execution_count": 23,
   "metadata": {},
   "outputs": [
    {
     "name": "stderr",
     "output_type": "stream",
     "text": [
      "/Users/romakindmitriy/anaconda3/lib/python3.7/site-packages/sklearn/linear_model/stochastic_gradient.py:152: DeprecationWarning: n_iter parameter is deprecated in 0.19 and will be removed in 0.21. Use max_iter and tol instead.\n",
      "  DeprecationWarning)\n"
     ]
    },
    {
     "data": {
      "text/plain": [
       "MLPClassifier(activation='relu', alpha=1e-05, batch_size='auto', beta_1=0.9,\n",
       "       beta_2=0.999, early_stopping=False, epsilon=1e-08,\n",
       "       hidden_layer_sizes=(256, 512, 128), learning_rate='constant',\n",
       "       learning_rate_init=0.001, max_iter=200, momentum=0.9,\n",
       "       n_iter_no_change=10, nesterovs_momentum=True, power_t=0.5,\n",
       "       random_state=1, shuffle=True, solver='lbfgs', tol=0.0001,\n",
       "       validation_fraction=0.1, verbose=False, warm_start=False)"
      ]
     },
     "execution_count": 23,
     "metadata": {},
     "output_type": "execute_result"
    }
   ],
   "source": [
    "# Train the perceptrons\n",
    "ppn.fit(X_train_std, y_train)\n",
    "mppn.fit(X_train_std, y_train)"
   ]
  },
  {
   "cell_type": "code",
   "execution_count": 24,
   "metadata": {},
   "outputs": [],
   "source": [
    "# Apply the trained perceptrons on the X data to make predicts for the y test data\n",
    "y_pred = ppn.predict(X_test_std)\n",
    "multi_y_pred = mppn.predict(X_test_std)"
   ]
  },
  {
   "cell_type": "code",
   "execution_count": 25,
   "metadata": {},
   "outputs": [
    {
     "name": "stdout",
     "output_type": "stream",
     "text": [
      "Single-layer perceptron accuracy: 0.9444\n",
      "Multilayer perceptron accuracy: 0.9537\n"
     ]
    }
   ],
   "source": [
    "# View the accuracies of the model, which is: 1 - (observations predicted wrong / total observations)\n",
    "print('Single-layer perceptron accuracy: %.4f' % accuracy_score(y_test, y_pred))\n",
    "print('Multilayer perceptron accuracy: %.4f' % accuracy_score(y_test, multi_y_pred))"
   ]
  },
  {
   "cell_type": "code",
   "execution_count": 5,
   "metadata": {
    "pycharm": {
     "is_executing": false
    }
   },
   "outputs": [],
   "source": [
    "import pandas as pd\n",
    "import csv\n",
    "import matplotlib.pyplot as plt"
   ]
  },
  {
   "cell_type": "code",
   "execution_count": 6,
   "metadata": {
    "pycharm": {
     "is_executing": false
    }
   },
   "outputs": [],
   "source": [
    "data = pd.read_csv(\"./analyse/2.csv\")"
   ]
  },
  {
   "cell_type": "code",
   "execution_count": 7,
   "outputs": [
    {
     "data": {
      "text/plain": "   epoch                                                  w  \\\n0      0  [-0.03911333119158747, 0.6464227370266692, -0....   \n1      1  [0.04598192334896495, 0.7414449611097125, -0.2...   \n2      2  [0.09433064050145394, 0.7809250827463275, -0.0...   \n3      3  [0.12031685416476873, 0.803533686298421, 0.044...   \n4      4  [0.13348161280465062, 0.8196414301098933, 0.14...   \n5      5  [0.13907353107063103, 0.8325754496046981, 0.21...   \n6      6  [0.1399997344733614, 0.8436878796728059, 0.283...   \n7      7  [0.13796121005374357, 0.8536323449404073, 0.33...   \n8      8  [0.13401258399994964, 0.8627663223587666, 0.38...   \n9      9  [0.12884049808080936, 0.871303632482968, 0.427...   \n\n                                                   y  sum_errors  \n0  [0.5, 0.31202488789887806, 0.11925096487964809...    4.653837  \n1  [0.5, 0.4312545021526875, 0.24151764726768227,...    2.988760  \n2  [0.5, 0.5033145362791122, 0.3656267975893831, ...    1.756291  \n3  [0.5, 0.538625025883193, 0.4567420045078577, 0...    1.074860  \n4  [0.5, 0.5569944360049478, 0.5220863918747888, ...    0.672490  \n5  [0.5, 0.5668752394678997, 0.5706042341865327, ...    0.415502  \n6  [0.5, 0.5720597439017256, 0.6081192299022753, ...    0.240789  \n7  [0.5, 0.5744463003814368, 0.6381507494367537, ...    0.116285  \n8  [0.5, 0.5750807991309096, 0.6628690166246265, ...    0.024341  \n9  [0.5, 0.5745863880579056, 0.6836685041212602, ...   -0.045477  ",
      "text/html": "<div>\n<style scoped>\n    .dataframe tbody tr th:only-of-type {\n        vertical-align: middle;\n    }\n\n    .dataframe tbody tr th {\n        vertical-align: top;\n    }\n\n    .dataframe thead th {\n        text-align: right;\n    }\n</style>\n<table border=\"1\" class=\"dataframe\">\n  <thead>\n    <tr style=\"text-align: right;\">\n      <th></th>\n      <th>epoch</th>\n      <th>w</th>\n      <th>y</th>\n      <th>sum_errors</th>\n    </tr>\n  </thead>\n  <tbody>\n    <tr>\n      <th>0</th>\n      <td>0</td>\n      <td>[-0.03911333119158747, 0.6464227370266692, -0....</td>\n      <td>[0.5, 0.31202488789887806, 0.11925096487964809...</td>\n      <td>4.653837</td>\n    </tr>\n    <tr>\n      <th>1</th>\n      <td>1</td>\n      <td>[0.04598192334896495, 0.7414449611097125, -0.2...</td>\n      <td>[0.5, 0.4312545021526875, 0.24151764726768227,...</td>\n      <td>2.988760</td>\n    </tr>\n    <tr>\n      <th>2</th>\n      <td>2</td>\n      <td>[0.09433064050145394, 0.7809250827463275, -0.0...</td>\n      <td>[0.5, 0.5033145362791122, 0.3656267975893831, ...</td>\n      <td>1.756291</td>\n    </tr>\n    <tr>\n      <th>3</th>\n      <td>3</td>\n      <td>[0.12031685416476873, 0.803533686298421, 0.044...</td>\n      <td>[0.5, 0.538625025883193, 0.4567420045078577, 0...</td>\n      <td>1.074860</td>\n    </tr>\n    <tr>\n      <th>4</th>\n      <td>4</td>\n      <td>[0.13348161280465062, 0.8196414301098933, 0.14...</td>\n      <td>[0.5, 0.5569944360049478, 0.5220863918747888, ...</td>\n      <td>0.672490</td>\n    </tr>\n    <tr>\n      <th>5</th>\n      <td>5</td>\n      <td>[0.13907353107063103, 0.8325754496046981, 0.21...</td>\n      <td>[0.5, 0.5668752394678997, 0.5706042341865327, ...</td>\n      <td>0.415502</td>\n    </tr>\n    <tr>\n      <th>6</th>\n      <td>6</td>\n      <td>[0.1399997344733614, 0.8436878796728059, 0.283...</td>\n      <td>[0.5, 0.5720597439017256, 0.6081192299022753, ...</td>\n      <td>0.240789</td>\n    </tr>\n    <tr>\n      <th>7</th>\n      <td>7</td>\n      <td>[0.13796121005374357, 0.8536323449404073, 0.33...</td>\n      <td>[0.5, 0.5744463003814368, 0.6381507494367537, ...</td>\n      <td>0.116285</td>\n    </tr>\n    <tr>\n      <th>8</th>\n      <td>8</td>\n      <td>[0.13401258399994964, 0.8627663223587666, 0.38...</td>\n      <td>[0.5, 0.5750807991309096, 0.6628690166246265, ...</td>\n      <td>0.024341</td>\n    </tr>\n    <tr>\n      <th>9</th>\n      <td>9</td>\n      <td>[0.12884049808080936, 0.871303632482968, 0.427...</td>\n      <td>[0.5, 0.5745863880579056, 0.6836685041212602, ...</td>\n      <td>-0.045477</td>\n    </tr>\n  </tbody>\n</table>\n</div>"
     },
     "metadata": {},
     "output_type": "execute_result",
     "execution_count": 7
    }
   ],
   "source": [
    "data.head(10)"
   ],
   "metadata": {
    "collapsed": false,
    "pycharm": {
     "name": "#%%\n",
     "is_executing": false
    }
   }
  },
  {
   "cell_type": "code",
   "execution_count": 8,
   "outputs": [
    {
     "data": {
      "text/plain": "<Figure size 432x288 with 1 Axes>",
      "image/png": "[encoded data removed]"
     },
     "metadata": {
      "needs_background": "light"
     },
     "output_type": "display_data"
    }
   ],
   "source": [
    "plt.plot(data['epoch'], data['sum_errors'],'b')\n",
    "plt.xlabel('E')\n",
    "plt.ylabel('k')\n",
    "plt.title('E(k)')\n",
    "plt.grid()\n",
    "plt.show()\n",
    "\n"
   ],
   "metadata": {
    "collapsed": false,
    "pycharm": {
     "name": "#%%\n",
     "is_executing": false
    }
   }
  },
  {
   "cell_type": "code",
   "execution_count": null,
   "outputs": [],
   "source": [
    "\n"
   ],
   "metadata": {
    "collapsed": false,
    "pycharm": {
     "name": "#%%\n"
    }
   }
  }
 ],
 "metadata": {
  "kernelspec": {
   "display_name": "Python 3",
   "language": "python",
   "name": "python3"
  },
  "language_info": {
   "codemirror_mode": {
    "name": "ipython",
    "version": 3
   },
   "file_extension": ".py",
   "mimetype": "text/x-python",
   "name": "python",
   "nbconvert_exporter": "python",
   "pygments_lexer": "ipython3",
   "version": "3.7.3"
  },
  "pycharm": {
   "stem_cell": {
    "cell_type": "raw",
    "source": [],
    "metadata": {
     "collapsed": false
    }
   }
  }
 },
 "nbformat": 4,
 "nbformat_minor": 2
}